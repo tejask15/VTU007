{
 "cells": [
  {
   "cell_type": "markdown",
   "metadata": {},
   "source": [
    "# Naive Bayes\n",
    "## Tejas K 1ga17cs164"
   ]
  },
  {
   "cell_type": "code",
   "execution_count": 16,
   "metadata": {},
   "outputs": [
    {
     "name": "stdout",
     "output_type": "stream",
     "text": [
      "The dimensions of the dataset (18, 2)\n",
      "0                      I love this sandwich\n",
      "1                  This is an amazing place\n",
      "2        I feel very good about these beers\n",
      "3                      This is my best work\n",
      "4                      What an awesome view\n",
      "5             I do not like this restaurant\n",
      "6                  I am tired of this stuff\n",
      "7                    I can't deal with this\n",
      "8                      He is my sworn enemy\n",
      "9                       My boss is horrible\n",
      "10                 This is an awesome place\n",
      "11    I do not like the taste of this juice\n",
      "12                          I love to dance\n",
      "13        I am sick and tired of this place\n",
      "14                     What a great holiday\n",
      "15           That is a bad locality to stay\n",
      "16           We will have good fun tomorrow\n",
      "17         I went to my enemy's house today\n",
      "Name: message, dtype: object\n",
      "0     1\n",
      "1     1\n",
      "2     1\n",
      "3     1\n",
      "4     1\n",
      "5     0\n",
      "6     0\n",
      "7     0\n",
      "8     0\n",
      "9     0\n",
      "10    1\n",
      "11    0\n",
      "12    1\n",
      "13    0\n",
      "14    1\n",
      "15    0\n",
      "16    1\n",
      "17    0\n",
      "Name: labelnum, dtype: int64\n"
     ]
    }
   ],
   "source": [
    "import pandas as pd\n",
    "msg=pd.read_csv('pg6.csv',names=['message','label'])\n",
    "print('The dimensions of the dataset',msg.shape)\n",
    "msg['labelnum']=msg.label.map({'pos':1,'neg':0})\n",
    "X=msg.message\n",
    "y=msg.labelnum\n",
    "print(X)\n",
    "print(y)"
   ]
  },
  {
   "cell_type": "code",
   "execution_count": 17,
   "metadata": {},
   "outputs": [
    {
     "name": "stdout",
     "output_type": "stream",
     "text": [
      "(5,)\n",
      "(13,)\n",
      "(5,)\n",
      "(13,)\n"
     ]
    }
   ],
   "source": [
    "from sklearn.model_selection import train_test_split\n",
    "xtrain,xtest,ytrain,ytest=train_test_split(X,y)\n",
    "print(xtest.shape)\n",
    "print(xtrain.shape)\n",
    "print(ytest.shape)\n",
    "print(ytrain.shape)"
   ]
  },
  {
   "cell_type": "code",
   "execution_count": 18,
   "metadata": {},
   "outputs": [
    {
     "name": "stdout",
     "output_type": "stream",
     "text": [
      "['about', 'am', 'amazing', 'an', 'and', 'awesome', 'beers', 'best', 'boss', 'can', 'dance', 'deal', 'do', 'enemy', 'feel', 'good', 'he', 'horrible', 'is', 'juice', 'like', 'love', 'my', 'not', 'of', 'place', 'sandwich', 'sick', 'stuff', 'sworn', 'taste', 'the', 'these', 'this', 'tired', 'to', 'very', 'view', 'what', 'with', 'work']\n",
      "    about  am  amazing  an  and  awesome  beers  best  boss  can  ...  the  \\\n",
      "0       0   0        0   0    0        0      0     0     0    0  ...    0   \n",
      "1       0   0        0   0    0        0      0     0     0    0  ...    0   \n",
      "2       0   0        0   1    0        1      0     0     0    0  ...    0   \n",
      "3       0   0        0   0    0        0      0     0     0    1  ...    0   \n",
      "4       0   0        0   0    0        0      0     0     0    0  ...    1   \n",
      "5       0   1        0   0    0        0      0     0     0    0  ...    0   \n",
      "6       0   0        1   1    0        0      0     0     0    0  ...    0   \n",
      "7       0   0        0   1    0        1      0     0     0    0  ...    0   \n",
      "8       0   0        0   0    0        0      0     0     0    0  ...    0   \n",
      "9       1   0        0   0    0        0      1     0     0    0  ...    0   \n",
      "10      0   1        0   0    1        0      0     0     0    0  ...    0   \n",
      "11      0   0        0   0    0        0      0     1     0    0  ...    0   \n",
      "12      0   0        0   0    0        0      0     0     1    0  ...    0   \n",
      "\n",
      "    these  this  tired  to  very  view  what  with  work  \n",
      "0       0     0      0   1     0     0     0     0     0  \n",
      "1       0     0      0   0     0     0     0     0     0  \n",
      "2       0     0      0   0     0     1     1     0     0  \n",
      "3       0     1      0   0     0     0     0     1     0  \n",
      "4       0     1      0   0     0     0     0     0     0  \n",
      "5       0     1      1   0     0     0     0     0     0  \n",
      "6       0     1      0   0     0     0     0     0     0  \n",
      "7       0     1      0   0     0     0     0     0     0  \n",
      "8       0     1      0   0     0     0     0     0     0  \n",
      "9       1     0      0   0     1     0     0     0     0  \n",
      "10      0     1      1   0     0     0     0     0     0  \n",
      "11      0     1      0   0     0     0     0     0     1  \n",
      "12      0     0      0   0     0     0     0     0     0  \n",
      "\n",
      "[13 rows x 41 columns]\n",
      "  (0, 21)\t1\n",
      "  (0, 35)\t1\n",
      "  (0, 10)\t1\n",
      "  (1, 16)\t1\n",
      "  (1, 18)\t1\n",
      "  (1, 22)\t1\n",
      "  (1, 29)\t1\n",
      "  (1, 13)\t1\n",
      "  (2, 38)\t1\n",
      "  (2, 3)\t1\n",
      "  (2, 5)\t1\n",
      "  (2, 37)\t1\n",
      "  (3, 9)\t1\n",
      "  (3, 11)\t1\n",
      "  (3, 39)\t1\n",
      "  (3, 33)\t1\n",
      "  (4, 33)\t1\n",
      "  (4, 12)\t1\n",
      "  (4, 23)\t1\n",
      "  (4, 20)\t1\n",
      "  (4, 31)\t1\n",
      "  (4, 30)\t1\n",
      "  (4, 24)\t1\n",
      "  (4, 19)\t1\n",
      "  (5, 33)\t1\n",
      "  :\t:\n",
      "  (8, 21)\t1\n",
      "  (8, 33)\t1\n",
      "  (8, 26)\t1\n",
      "  (9, 14)\t1\n",
      "  (9, 36)\t1\n",
      "  (9, 15)\t1\n",
      "  (9, 0)\t1\n",
      "  (9, 32)\t1\n",
      "  (9, 6)\t1\n",
      "  (10, 33)\t1\n",
      "  (10, 24)\t1\n",
      "  (10, 1)\t1\n",
      "  (10, 34)\t1\n",
      "  (10, 25)\t1\n",
      "  (10, 27)\t1\n",
      "  (10, 4)\t1\n",
      "  (11, 18)\t1\n",
      "  (11, 22)\t1\n",
      "  (11, 33)\t1\n",
      "  (11, 7)\t1\n",
      "  (11, 40)\t1\n",
      "  (12, 18)\t1\n",
      "  (12, 22)\t1\n",
      "  (12, 8)\t1\n",
      "  (12, 17)\t1\n"
     ]
    }
   ],
   "source": [
    "from sklearn.feature_extraction.text import CountVectorizer\n",
    "count_vect = CountVectorizer()\n",
    "xtrain_dtm = count_vect.fit_transform(xtrain)\n",
    "xtest_dtm=count_vect.transform(xtest)\n",
    "print(count_vect.get_feature_names())\n",
    "df=pd.DataFrame(xtrain_dtm.toarray(),columns=count_vect.get_feature_names())\n",
    "print(df)\n",
    "print(xtrain_dtm)"
   ]
  },
  {
   "cell_type": "code",
   "execution_count": 19,
   "metadata": {},
   "outputs": [],
   "source": [
    "from sklearn.naive_bayes import MultinomialNB\n",
    "clf = MultinomialNB().fit(xtrain_dtm,ytrain)\n",
    "predicted = clf.predict(xtest_dtm)"
   ]
  },
  {
   "cell_type": "code",
   "execution_count": 21,
   "metadata": {},
   "outputs": [
    {
     "name": "stdout",
     "output_type": "stream",
     "text": [
      "Accuracy metrics\n",
      "Accuracy of the classifer is 0.8\n",
      "Confusion matrix\n",
      "[[2 1]\n",
      " [0 2]]\n",
      "Recall and Precison \n",
      "1.0\n",
      "0.6666666666666666\n"
     ]
    }
   ],
   "source": [
    "from sklearn import metrics\n",
    "print('Accuracy metrics')\n",
    "print('Accuracy of the classifer is',metrics.accuracy_score(ytest,predicted))\n",
    "print('Confusion matrix')\n",
    "print(metrics.confusion_matrix(ytest,predicted))\n",
    "print('Recall and Precison ')\n",
    "print(metrics.recall_score(ytest,predicted))\n",
    "print(metrics.precision_score(ytest,predicted))"
   ]
  }
 ],
 "metadata": {
  "kernelspec": {
   "display_name": "Python 3",
   "language": "python",
   "name": "python3"
  },
  "language_info": {
   "codemirror_mode": {
    "name": "ipython",
    "version": 3
   },
   "file_extension": ".py",
   "mimetype": "text/x-python",
   "name": "python",
   "nbconvert_exporter": "python",
   "pygments_lexer": "ipython3",
   "version": "3.6.10"
  }
 },
 "nbformat": 4,
 "nbformat_minor": 4
}
