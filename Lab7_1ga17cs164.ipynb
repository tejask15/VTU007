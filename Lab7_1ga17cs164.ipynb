{
 "cells": [
  {
   "cell_type": "markdown",
   "metadata": {},
   "source": [
    "# Bayesian network\n",
    "## Tejas K | 1GA17CS164\n"
   ]
  },
  {
   "cell_type": "code",
   "execution_count": 1,
   "metadata": {},
   "outputs": [
    {
     "name": "stdout",
     "output_type": "stream",
     "text": [
      "Collecting bayespy\n",
      "  Downloading bayespy-0.5.20.tar.gz (489 kB)\n",
      "Requirement already satisfied: numpy>=1.10.0 in c:\\programdata\\anaconda3\\lib\\site-packages (from bayespy) (1.17.0)\n",
      "Requirement already satisfied: scipy>=0.13.0 in c:\\programdata\\anaconda3\\lib\\site-packages (from bayespy) (1.4.1)\n",
      "Requirement already satisfied: h5py in c:\\programdata\\anaconda3\\lib\\site-packages (from bayespy) (2.10.0)\n",
      "Requirement already satisfied: six in c:\\programdata\\anaconda3\\lib\\site-packages (from h5py->bayespy) (1.15.0)\n",
      "Building wheels for collected packages: bayespy\n",
      "  Building wheel for bayespy (setup.py): started\n",
      "  Building wheel for bayespy (setup.py): finished with status 'done'\n",
      "  Created wheel for bayespy: filename=bayespy-0.5.20-py3-none-any.whl size=378198 sha256=31b59be89c1d9c9cee3de5f33b588534533f10313860b31dd4e4cc6dd35c4560\n",
      "  Stored in directory: c:\\users\\win10\\appdata\\local\\pip\\cache\\wheels\\e4\\45\\63\\28c993723a9dda75e42b709ee86994cd6bd21fc6ebddb3b104\n",
      "Successfully built bayespy\n",
      "Installing collected packages: bayespy\n",
      "Successfully installed bayespy-0.5.20\n"
     ]
    }
   ],
   "source": [
    "!pip install bayespy"
   ]
  },
  {
   "cell_type": "code",
   "execution_count": 2,
   "metadata": {},
   "outputs": [
    {
     "name": "stdout",
     "output_type": "stream",
     "text": [
      "Requirement already satisfied: colorama in c:\\programdata\\anaconda3\\lib\\site-packages (0.4.3)\n"
     ]
    }
   ],
   "source": [
    "!pip install colorama"
   ]
  },
  {
   "cell_type": "code",
   "execution_count": 5,
   "metadata": {},
   "outputs": [
    {
     "name": "stdout",
     "output_type": "stream",
     "text": [
      "[[0 0 0 1 3 0 0]\n",
      " [0 1 0 1 3 0 0]\n",
      " [1 0 1 0 2 1 0]\n",
      " [4 0 0 1 3 2 1]\n",
      " [3 1 0 0 0 2 1]\n",
      " [2 0 0 1 1 0 0]\n",
      " [4 0 0 0 2 0 0]\n",
      " [0 0 0 1 3 0 0]\n",
      " [3 1 0 0 0 2 1]\n",
      " [1 1 1 0 0 2 0]\n",
      " [4 1 1 1 2 0 0]\n",
      " [4 0 0 1 3 2 1]\n",
      " [2 1 1 0 0 0 1]\n",
      " [2 0 0 1 1 0 0]\n",
      " [3 1 0 0 0 1 1]\n",
      " [0 0 0 0 0 2 0]\n",
      " [1 1 1 1 2 1 0]\n",
      " [3 1 0 1 0 1 1]\n",
      " [4 0 0 1 3 2 1]]\n",
      "N=19\n",
      "p_age= ~ Dirichlet(alpha)\n",
      "  alpha =\n",
      "[1. 1. 1. 1. 1.]\n",
      "age= ~ Categorical(p)\n",
      "  p = \n",
      "[[0.2 0.2 0.2 0.2 0.2]]\n",
      "\n",
      "OBSERVE AGENone\n",
      "p_gender= ~ Dirichlet(alpha)\n",
      "  alpha =\n",
      "[1. 1.]\n",
      "gender= ~ Categorical(p)\n",
      "  p = \n",
      "[[0.5 0.5]]\n",
      "\n",
      "p_familyhistory= ~ Dirichlet(alpha)\n",
      "  alpha =\n",
      "[1. 1.]\n",
      "familyhistory= ~ Categorical(p)\n",
      "  p = \n",
      "[[0.5 0.5]]\n",
      "\n",
      "p_diet= ~ Dirichlet(alpha)\n",
      "  alpha =\n",
      "[1. 1. 1.]\n",
      "diet= ~ Categorical(p)\n",
      "  p = \n",
      "[[0.33333333 0.33333333 0.33333333]]\n",
      "\n",
      "p_lifestyle= ~ Dirichlet(alpha)\n",
      "  alpha =\n",
      "[1. 1. 1. 1.]\n",
      "lifestyle= ~ Categorical(p)\n",
      "  p = \n",
      "[[0.25 0.25 0.25 0.25]]\n",
      "\n",
      "p_cholesterol= ~ Dirichlet(alpha)\n",
      "  alpha =\n",
      "[1. 1. 1.]\n",
      "cholesterol= ~ Categorical(p)\n",
      "  p = \n",
      "[[0.33333333 0.33333333 0.33333333]]\n",
      "\n"
     ]
    }
   ],
   "source": [
    "import bayespy as bp\n",
    "import numpy as np\n",
    "import csv\n",
    "from colorama import init\n",
    "from colorama import Fore, Back, Style\n",
    "init()\n",
    "# Define Parameter Enum values\n",
    "#Age\n",
    "ageEnum = {'SuperSeniorCitizen':0, 'SeniorCitizen':1, 'MiddleAged':2,\n",
    "'Youth':3, 'Teen':4}\n",
    "# Gender\n",
    "genderEnum = {'Male':0, 'Female':1}\n",
    "# FamilyHistory\n",
    "familyHistoryEnum = {'Yes':0, 'No':1}\n",
    "# Diet(Calorie Intake)\n",
    "dietEnum = {'High':0, 'Medium':1, 'Low':2}\n",
    "# LifeStyle\n",
    "lifeStyleEnum = {'Athlete':0, 'Active':1, 'Moderate':2, 'Sedetary':3}\n",
    "# Cholesterol\n",
    "cholesterolEnum = {'High':0, 'BorderLine':1, 'Normal':2}\n",
    "# HeartDisease\n",
    "heartDiseaseEnum = {'Yes':0, 'No':1}\n",
    "#heart_disease_data.csv\n",
    "with open('heart_disease_data.csv') as csvfile:\n",
    "    lines = csv.reader(csvfile)\n",
    "    dataset = list(lines)\n",
    "    data = []\n",
    "for x in dataset:\n",
    "    data.append([ageEnum[x[0]],genderEnum[x[1]],familyHistoryEnum[x[2]],dietEnum[x[3]],lifeStyleEnum[x[4]],cholesterolEnum[x[5]],heartDiseaseEnum[x[6]]])\n",
    "# Training data for machine learning todo: should import from csv\n",
    "data = np.array(data)\n",
    "print (data)\n",
    "N = len(data)\n",
    "print(f\"N={N}\")\n",
    "# Input data column assignment\n",
    "p_age = bp.nodes.Dirichlet(1.0*np.ones(5))\n",
    "print(f\"p_age={p_age}\")\n",
    "age = bp.nodes.Categorical(p_age, plates=(N,))\n",
    "print(f\"age={age}\")\n",
    "age.observe(data[:,0])\n",
    "print(f\"OBSERVE AGE{age.observe(data[:,0])}\")\n",
    "p_gender = bp.nodes.Dirichlet(1.0*np.ones(2))\n",
    "print(f\"p_gender={p_gender}\")\n",
    "gender = bp.nodes.Categorical(p_gender, plates=(N,))\n",
    "print(f\"gender={gender}\")\n",
    "gender.observe(data[:,1])\n",
    "p_familyhistory = bp.nodes.Dirichlet(1.0*np.ones(2))\n",
    "print(f\"p_familyhistory={p_familyhistory}\")\n",
    "familyhistory = bp.nodes.Categorical(p_familyhistory, plates=(N,))\n",
    "print(f\"familyhistory={familyhistory}\")\n",
    "familyhistory.observe(data[:,2])\n",
    "p_diet = bp.nodes.Dirichlet(1.0*np.ones(3))\n",
    "print(f\"p_diet={p_diet}\")\n",
    "diet = bp.nodes.Categorical(p_diet, plates=(N,))\n",
    "print(f\"diet={diet}\")\n",
    "diet.observe(data[:,3])\n",
    "p_lifestyle = bp.nodes.Dirichlet(1.0*np.ones(4))\n",
    "print(f\"p_lifestyle={p_lifestyle}\")\n",
    "lifestyle = bp.nodes.Categorical(p_lifestyle, plates=(N,))\n",
    "print(f\"lifestyle={lifestyle}\")\n",
    "lifestyle.observe(data[:,4])\n",
    "p_cholesterol = bp.nodes.Dirichlet(1.0*np.ones(3))\n",
    "print(f\"p_cholesterol={p_cholesterol}\")\n",
    "cholesterol = bp.nodes.Categorical(p_cholesterol, plates=(N,))\n",
    "print(f\"cholesterol={cholesterol}\")\n",
    "cholesterol.observe(data[:,5])"
   ]
  },
  {
   "cell_type": "code",
   "execution_count": 6,
   "metadata": {},
   "outputs": [
    {
     "name": "stdout",
     "output_type": "stream",
     "text": [
      "p_heartdisease= ~ Dirichlet(alpha)\n",
      "  alpha =\n",
      "[[[[[[[1. 1.]]]]]]]\n",
      "[[0 0 0 1 3 0 0]\n",
      " [0 1 0 1 3 0 0]\n",
      " [1 0 1 0 2 1 0]\n",
      " [4 0 0 1 3 2 1]\n",
      " [3 1 0 0 0 2 1]\n",
      " [2 0 0 1 1 0 0]\n",
      " [4 0 0 0 2 0 0]\n",
      " [0 0 0 1 3 0 0]\n",
      " [3 1 0 0 0 2 1]\n",
      " [1 1 1 0 0 2 0]\n",
      " [4 1 1 1 2 0 0]\n",
      " [4 0 0 1 3 2 1]\n",
      " [2 1 1 0 0 0 1]\n",
      " [2 0 0 1 1 0 0]\n",
      " [3 1 0 0 0 1 1]\n",
      " [0 0 0 0 0 2 0]\n",
      " [1 1 1 1 2 1 0]\n",
      " [3 1 0 1 0 1 1]\n",
      " [4 0 0 1 3 2 1]]\n",
      "\n",
      "\n",
      "Enter Age: y{'SuperSeniorCitizen': 0, 'SeniorCitizen': 1, 'MiddleAged': 2, 'Youth': 3, 'Teen': 4}0\n",
      "Enter Gender: {'Male': 0, 'Female': 1}1\n",
      "Enter FamilyHistory: {'Yes': 0, 'No': 1}0\n",
      "Enter dietEnum: {'High': 0, 'Medium': 1, 'Low': 2}1\n",
      "Enter LifeStyle: {'Athlete': 0, 'Active': 1, 'Moderate': 2, 'Sedetary': 3}0\n",
      "Enter Cholesterol: {'High': 0, 'BorderLine': 1, 'Normal': 2}0\n",
      "Probability(HeartDisease) = 0.5\n",
      "Enter for Continue:0, Exit :1 1\n"
     ]
    }
   ],
   "source": [
    "#print(data)\n",
    "# Prepare nodes and establish edges\n",
    "# np.ones(2) -> HeartDisease has 2 options Yes/No\n",
    "# plates(5, 2, 2, 3, 4, 3) -> corresponds to options present for domain values\n",
    "p_heartdisease = bp.nodes.Dirichlet(np.ones(2), plates=(5, 2, 2, 3, 4, 3))\n",
    "print(f\"p_heartdisease={p_heartdisease}\")\n",
    "heartdisease = bp.nodes.MultiMixture([age, gender, familyhistory, diet,\n",
    "lifestyle, cholesterol], bp.nodes.Categorical, p_heartdisease)\n",
    "#print(f\"heartdisease={heartdisease}\")\n",
    "heartdisease.observe(data[:,6])\n",
    "p_heartdisease.update()\n",
    "print(data)\n",
    "# Interactive Test\n",
    "m = 0\n",
    "while m == 0:\n",
    "    print(\"\\n\")\n",
    "    res = bp.nodes.MultiMixture([int(input('Enter Age: y' +str(ageEnum))), int(input('Enter Gender: ' + str(genderEnum))),\n",
    "    int(input('Enter FamilyHistory: ' + str(familyHistoryEnum))),int(input('Enter dietEnum: ' + str(dietEnum))), int(input('Enter LifeStyle: ' + str(lifeStyleEnum))), int(input('Enter Cholesterol: '+ str(cholesterolEnum)))], bp.nodes.Categorical,\n",
    "    p_heartdisease).get_moments()[0][heartDiseaseEnum['No']]\n",
    "    print(\"Probability(HeartDisease) = \" + str(res))\n",
    " #print(Style.RESET_ALL)\n",
    "    m = int(input(\"Enter for Continue:0, Exit :1 \"))"
   ]
  },
  {
   "cell_type": "code",
   "execution_count": 7,
   "metadata": {},
   "outputs": [
    {
     "ename": "Exception",
     "evalue": "No plotter defined, can not plot",
     "output_type": "error",
     "traceback": [
      "\u001b[1;31m---------------------------------------------------------------------------\u001b[0m",
      "\u001b[1;31mException\u001b[0m                                 Traceback (most recent call last)",
      "\u001b[1;32m<ipython-input-7-a23035c48c97>\u001b[0m in \u001b[0;36m<module>\u001b[1;34m\u001b[0m\n\u001b[1;32m----> 1\u001b[1;33m \u001b[0mp_heartdisease\u001b[0m\u001b[1;33m.\u001b[0m\u001b[0mplot\u001b[0m\u001b[1;33m(\u001b[0m\u001b[1;33m)\u001b[0m\u001b[1;33m\u001b[0m\u001b[1;33m\u001b[0m\u001b[0m\n\u001b[0m",
      "\u001b[1;32mC:\\ProgramData\\Anaconda3\\lib\\site-packages\\bayespy\\inference\\vmp\\nodes\\node.py\u001b[0m in \u001b[0;36mplot\u001b[1;34m(self, fig, **kwargs)\u001b[0m\n\u001b[0;32m    789\u001b[0m             \u001b[1;32mreturn\u001b[0m \u001b[0max\u001b[0m\u001b[1;33m\u001b[0m\u001b[1;33m\u001b[0m\u001b[0m\n\u001b[0;32m    790\u001b[0m         \u001b[1;32melse\u001b[0m\u001b[1;33m:\u001b[0m\u001b[1;33m\u001b[0m\u001b[1;33m\u001b[0m\u001b[0m\n\u001b[1;32m--> 791\u001b[1;33m             \u001b[1;32mraise\u001b[0m \u001b[0mException\u001b[0m\u001b[1;33m(\u001b[0m\u001b[1;34m\"No plotter defined, can not plot\"\u001b[0m\u001b[1;33m)\u001b[0m\u001b[1;33m\u001b[0m\u001b[1;33m\u001b[0m\u001b[0m\n\u001b[0m\u001b[0;32m    792\u001b[0m \u001b[1;33m\u001b[0m\u001b[0m\n\u001b[0;32m    793\u001b[0m \u001b[1;33m\u001b[0m\u001b[0m\n",
      "\u001b[1;31mException\u001b[0m: No plotter defined, can not plot"
     ]
    },
    {
     "data": {
      "text/plain": [
       "<Figure size 432x288 with 0 Axes>"
      ]
     },
     "metadata": {},
     "output_type": "display_data"
    }
   ],
   "source": []
  },
  {
   "cell_type": "code",
   "execution_count": null,
   "metadata": {},
   "outputs": [],
   "source": []
  }
 ],
 "metadata": {
  "kernelspec": {
   "display_name": "Python 3",
   "language": "python",
   "name": "python3"
  },
  "language_info": {
   "codemirror_mode": {
    "name": "ipython",
    "version": 3
   },
   "file_extension": ".py",
   "mimetype": "text/x-python",
   "name": "python",
   "nbconvert_exporter": "python",
   "pygments_lexer": "ipython3",
   "version": "3.6.10"
  }
 },
 "nbformat": 4,
 "nbformat_minor": 4
}
