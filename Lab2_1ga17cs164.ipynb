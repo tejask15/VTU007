{
 "cells": [
  {
   "cell_type": "markdown",
   "metadata": {},
   "source": [
    "# Program 2\n",
    "## Candidate Elimination Algorithm\n",
    "## Tejas K (1GA17CS164)"
   ]
  },
  {
   "cell_type": "code",
   "execution_count": 3,
   "metadata": {},
   "outputs": [],
   "source": [
    "import numpy as np\n",
    "import pandas as pd"
   ]
  },
  {
   "cell_type": "code",
   "execution_count": 11,
   "metadata": {},
   "outputs": [],
   "source": [
    "data = pd.DataFrame(data = pd.read_csv(\"Program 2_ce.csv\"))\n",
    "concepts = np.array(data.iloc[:,0:-1])\n",
    "target = np.array(data.iloc[:,-1])"
   ]
  },
  {
   "cell_type": "code",
   "execution_count": 12,
   "metadata": {},
   "outputs": [],
   "source": [
    "def learn(concepts,target):\n",
    "    specific_h = concepts[0].copy()\n",
    "    general_h = [[\"?\" for i in range(len(specific_h))] for i in range(len(specific_h))] \n",
    "    for i,h in enumerate(concepts):\n",
    "            if target[i] == \"Yes\":\n",
    "                for x in range(len(specific_h)):\n",
    "                    if h[x] != specific_h[x]:\n",
    "                        specific_h[x] = \"?\"\n",
    "                        general_h[x][x] = \"?\"\n",
    "            if target[i] == \"No\":\n",
    "                for x in range(len(specific_h)):\n",
    "                    if h[x] != specific_h[x]:\n",
    "                        general_h[x][x] = specific_h[x]\n",
    "                    else:\n",
    "                        general_h[x][x] = \"?\"\n",
    "\n",
    "    indices = [i for i,val in enumerate(general_h) if val==['?','?','?','?','?','?']]\n",
    "\n",
    "    for i in indices:\n",
    "        general_h.remove(['?','?','?','?','?','?'])\n",
    "    return specific_h,general_h"
   ]
  },
  {
   "cell_type": "code",
   "execution_count": 13,
   "metadata": {},
   "outputs": [
    {
     "name": "stdout",
     "output_type": "stream",
     "text": [
      "Final S:  ['Sunny' 'Warm' '?' 'Strong' '?' '?']\n",
      "Final G:  [['Sunny', '?', '?', '?', '?', '?'], ['?', 'Warm', '?', '?', '?', '?']]\n"
     ]
    }
   ],
   "source": [
    "s_final,g_final = learn(concepts,target)\n",
    "print(\"Final S: \",s_final)\n",
    "print(\"Final G: \",g_final)"
   ]
  },
  {
   "cell_type": "code",
   "execution_count": null,
   "metadata": {},
   "outputs": [],
   "source": []
  }
 ],
 "metadata": {
  "kernelspec": {
   "display_name": "Python 3",
   "language": "python",
   "name": "python3"
  },
  "language_info": {
   "codemirror_mode": {
    "name": "ipython",
    "version": 3
   },
   "file_extension": ".py",
   "mimetype": "text/x-python",
   "name": "python",
   "nbconvert_exporter": "python",
   "pygments_lexer": "ipython3",
   "version": "3.6.10"
  }
 },
 "nbformat": 4,
 "nbformat_minor": 4
}
