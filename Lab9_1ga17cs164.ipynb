{
 "cells": [
  {
   "cell_type": "markdown",
   "metadata": {},
   "source": [
    "# K Nearest Neighbour Algorithm\n",
    "## Tejas K | 1ga17cs164"
   ]
  },
  {
   "cell_type": "code",
   "execution_count": 3,
   "metadata": {},
   "outputs": [
    {
     "name": "stdout",
     "output_type": "stream",
     "text": [
      "[[5.1 3.5 1.4 0.2]\n",
      " [4.9 3.  1.4 0.2]\n",
      " [4.7 3.2 1.3 0.2]\n",
      " [4.6 3.1 1.5 0.2]\n",
      " [5.  3.6 1.4 0.2]]\n",
      "['setosa' 'setosa' 'setosa' 'setosa' 'setosa']\n",
      "['setosa' 'setosa' 'versicolor' 'setosa' 'setosa' 'setosa' 'setosa'\n",
      " 'versicolor' 'versicolor' 'setosa' 'setosa' 'versicolor' 'versicolor'\n",
      " 'setosa' 'virginica' 'virginica' 'virginica' 'setosa' 'versicolor'\n",
      " 'setosa' 'virginica' 'setosa' 'versicolor' 'versicolor' 'versicolor'\n",
      " 'setosa' 'setosa' 'setosa' 'setosa' 'versicolor']\n",
      "Training accuracy Score is :  0.9666666666666667\n",
      "Testing accuracy Score is :  1.0\n",
      "Training Confusion Matrix is : \n",
      " [[34  0  0]\n",
      " [ 0 38  2]\n",
      " [ 0  2 44]]\n",
      "Testing Confusion Matrix is : \n",
      " [[16  0  0]\n",
      " [ 0 10  0]\n",
      " [ 0  0  4]]\n"
     ]
    }
   ],
   "source": [
    "import numpy as np\n",
    "import pandas as pd\n",
    "import matplotlib.pyplot as plt\n",
    "from sklearn.datasets import load_iris\n",
    "data = load_iris()\n",
    "df = pd.DataFrame(data.data, columns=data.feature_names)\n",
    "df['Class'] = data.target_names[data.target]\n",
    "df.head()\n",
    "x = df.iloc[:, :-1].values\n",
    "y = df.Class.values\n",
    "print(x[:5])\n",
    "print(y[:5])\n",
    "from sklearn.model_selection import train_test_split\n",
    "x_train, x_test, y_train, y_test = train_test_split(x, y, test_size = 0.2)\n",
    "from sklearn.neighbors import KNeighborsClassifier\n",
    "knn_classifier = KNeighborsClassifier(n_neighbors=5)\n",
    "knn_classifier.fit(x_train, y_train)\n",
    "predictions = knn_classifier.predict(x_test)\n",
    "print(predictions)\n",
    "from sklearn.metrics import accuracy_score, confusion_matrix\n",
    "print(\"Training accuracy Score is : \", accuracy_score(y_train,knn_classifier.predict(x_train)))\n",
    "print(\"Testing accuracy Score is : \", accuracy_score(y_test,knn_classifier.predict(x_test)))\n",
    "print(\"Training Confusion Matrix is : \\n\", confusion_matrix(y_train,knn_classifier.predict(x_train)))\n",
    "print(\"Testing Confusion Matrix is : \\n\", confusion_matrix(y_test,knn_classifier.predict(x_test)))"
   ]
  }
 ],
 "metadata": {
  "kernelspec": {
   "display_name": "Python 3",
   "language": "python",
   "name": "python3"
  },
  "language_info": {
   "codemirror_mode": {
    "name": "ipython",
    "version": 3
   },
   "file_extension": ".py",
   "mimetype": "text/x-python",
   "name": "python",
   "nbconvert_exporter": "python",
   "pygments_lexer": "ipython3",
   "version": "3.6.10"
  }
 },
 "nbformat": 4,
 "nbformat_minor": 4
}
